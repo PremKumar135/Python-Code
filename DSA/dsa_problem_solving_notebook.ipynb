{
 "cells": [
  {
   "cell_type": "code",
   "execution_count": 14,
   "metadata": {},
   "outputs": [
    {
     "name": "stdout",
     "output_type": "stream",
     "text": [
      "[0, 1, 9, 16, 100]\n"
     ]
    }
   ],
   "source": [
    "# https://leetcode.com/problems/squares-of-a-sorted-array/description/\n",
    "\n",
    "def square_sorted_array(array): #[-4,1,0,3,10] -> [0,1,9,16,100]\n",
    "    left = 0\n",
    "    right = len(array)-1\n",
    "    result = []\n",
    "    while left <= right:\n",
    "        if abs(array[left]) > abs(array[right]):\n",
    "            result.append(array[left]**2)\n",
    "            left += 1\n",
    "        else:\n",
    "            result.append(array[right]**2)\n",
    "            right -=1\n",
    "            \n",
    "    result.reverse()\n",
    "    return result\n",
    "\n",
    "print(square_sorted_array([-4,1,0,3,10]))"
   ]
  },
  {
   "cell_type": "code",
   "execution_count": 18,
   "metadata": {},
   "outputs": [
    {
     "name": "stdout",
     "output_type": "stream",
     "text": [
      "(10, 35)\n"
     ]
    }
   ],
   "source": [
    "# Two Sum in Sorted Array:\n",
    "# Given a sorted array and a target sum, find if there exists a pair of elements such that their sum equals the target.\n",
    "def two_sum_sorted_array(array, target):\n",
    "    left = 0\n",
    "    right = len(array)-1\n",
    "    while left<=right:\n",
    "        two_sum = array[left]+array[right]\n",
    "        if two_sum==target:\n",
    "            return array[left], array[right]\n",
    "\n",
    "        elif two_sum<target:\n",
    "            left+=1\n",
    "        else:\n",
    "            right-=1\n",
    "    \n",
    "print(two_sum_sorted_array([10, 20, 35, 50], 45))\n"
   ]
  },
  {
   "cell_type": "code",
   "execution_count": 20,
   "metadata": {},
   "outputs": [
    {
     "ename": "KeyboardInterrupt",
     "evalue": "",
     "output_type": "error",
     "traceback": [
      "\u001b[0;31m---------------------------------------------------------------------------\u001b[0m",
      "\u001b[0;31mKeyboardInterrupt\u001b[0m                         Traceback (most recent call last)",
      "Cell \u001b[0;32mIn[20], line 26\u001b[0m\n\u001b[1;32m     23\u001b[0m                     hi\u001b[38;5;241m-\u001b[39m\u001b[38;5;241m=\u001b[39m\u001b[38;5;241m1\u001b[39m\n\u001b[1;32m     24\u001b[0m     \u001b[38;5;28;01mreturn\u001b[39;00m answer\n\u001b[0;32m---> 26\u001b[0m \u001b[38;5;28mprint\u001b[39m(\u001b[43mfind_unique_triplets\u001b[49m\u001b[43m(\u001b[49m\u001b[43m[\u001b[49m\u001b[38;5;241;43m-\u001b[39;49m\u001b[38;5;241;43m1\u001b[39;49m\u001b[43m,\u001b[49m\u001b[38;5;241;43m0\u001b[39;49m\u001b[43m,\u001b[49m\u001b[38;5;241;43m1\u001b[39;49m\u001b[43m,\u001b[49m\u001b[38;5;241;43m2\u001b[39;49m\u001b[43m,\u001b[49m\u001b[38;5;241;43m-\u001b[39;49m\u001b[38;5;241;43m1\u001b[39;49m\u001b[43m,\u001b[49m\u001b[38;5;241;43m-\u001b[39;49m\u001b[38;5;241;43m4\u001b[39;49m\u001b[43m]\u001b[49m\u001b[43m)\u001b[49m)\n",
      "Cell \u001b[0;32mIn[20], line 15\u001b[0m, in \u001b[0;36mfind_unique_triplets\u001b[0;34m(array)\u001b[0m\n\u001b[1;32m     12\u001b[0m     \u001b[38;5;28;01mcontinue\u001b[39;00m\n\u001b[1;32m     14\u001b[0m lo,hi \u001b[38;5;241m=\u001b[39m i\u001b[38;5;241m+\u001b[39m\u001b[38;5;241m1\u001b[39m, n\u001b[38;5;241m-\u001b[39m\u001b[38;5;241m1\u001b[39m\n\u001b[0;32m---> 15\u001b[0m \u001b[38;5;28;01mwhile\u001b[39;00m lo\u001b[38;5;241m<\u001b[39mhi:\n\u001b[1;32m     16\u001b[0m     sums \u001b[38;5;241m=\u001b[39m array[i] \u001b[38;5;241m+\u001b[39m array[lo] \u001b[38;5;241m+\u001b[39m array[hi]\n\u001b[1;32m     17\u001b[0m     \u001b[38;5;28;01mif\u001b[39;00m sums\u001b[38;5;241m==\u001b[39m\u001b[38;5;241m0\u001b[39m:\n",
      "\u001b[0;31mKeyboardInterrupt\u001b[0m: "
     ]
    }
   ],
   "source": [
    "# Find Unique Triplets that Sum to Zero:\n",
    "# Given an array of integers, find all unique triplets (a, b, c) such that a + b + c = 0.\n",
    "def find_unique_triplets(array):\n",
    "    array.sort()\n",
    "    n = len(array)\n",
    "    answer = []\n",
    "\n",
    "    for i in range(n):\n",
    "        if array[i]>0:\n",
    "            break\n",
    "        elif i>0 and array[i]==array[i-1]:\n",
    "            continue\n",
    "    \n",
    "        lo,hi = i+1, n-1\n",
    "        while lo<hi:\n",
    "            sums = array[i] + array[lo] + array[hi]\n",
    "            if sums==0:\n",
    "                answer.append([array[i], array[lo], array[hi]])\n",
    "                lo,hi = lo+1, hi-1\n",
    "                while lo<hi and array[lo]==array[lo-1]:\n",
    "                    lo+=1\n",
    "                while lo<hi and array[hi]==array[hi+1]:\n",
    "                    hi-=1\n",
    "    return answer\n",
    "\n",
    "print(find_unique_triplets([-1,0,1,2,-1,-4]))\n"
   ]
  },
  {
   "cell_type": "code",
   "execution_count": 33,
   "metadata": {},
   "outputs": [
    {
     "name": "stdout",
     "output_type": "stream",
     "text": [
      "113\n",
      "113\n"
     ]
    }
   ],
   "source": [
    "## Problem 1: Maximum Sum Subarray of Size K\n",
    "\n",
    "def brute_force(array,k):  #[1,2,3,4,5,6,7,8,9] lets say k=3,  \n",
    "    max_sum = 0\n",
    "    for i in range(len(array)-k+1):  # we need to traverse till 7 which is len(array)-k\n",
    "        cur_sum = sum(array[i:i+k])\n",
    "        max_sum = max(cur_sum, max_sum)\n",
    "    return max_sum\n",
    "\n",
    "print(brute_force([1,2,3,4,5,100,6,7,8,9], 3))\n",
    "\n",
    "\n",
    "## sliding window technique\n",
    "def sliding_window(array,k):\n",
    "    cur_sum = sum(array[0:k])\n",
    "    max_sum = cur_sum\n",
    "    for i in range(len(array)-k): \n",
    "        cur_sum = cur_sum - array[i] + array[i+k]\n",
    "        max_sum = max(max_sum, cur_sum)\n",
    "    return max_sum\n",
    "\n",
    "print(sliding_window([1,2,3,4,5,100,6,7,8,9], 3))"
   ]
  },
  {
   "cell_type": "code",
   "execution_count": 38,
   "metadata": {},
   "outputs": [
    {
     "name": "stdout",
     "output_type": "stream",
     "text": [
      "{'ab', 'cb', 'bc'}\n"
     ]
    }
   ],
   "source": [
    "# Longest Substring with Unique Characters\n",
    "def longest_substring(string, k):\n",
    "    results = []\n",
    "    for i in range(len(string)-k):\n",
    "        cur_str = string[i:i+k]\n",
    "        if len(set(cur_str))==k:\n",
    "            results.append(cur_str)\n",
    "        else:\n",
    "            continue\n",
    "    return set(results)\n",
    "\n",
    "print(longest_substring(\"abcba\", 2))"
   ]
  },
  {
   "cell_type": "code",
   "execution_count": 32,
   "metadata": {},
   "outputs": [
    {
     "name": "stdout",
     "output_type": "stream",
     "text": [
      "113\n"
     ]
    }
   ],
   "source": []
  },
  {
   "cell_type": "code",
   "execution_count": null,
   "metadata": {},
   "outputs": [],
   "source": []
  }
 ],
 "metadata": {
  "kernelspec": {
   "display_name": "venv_learning",
   "language": "python",
   "name": "venv_learning"
  },
  "language_info": {
   "codemirror_mode": {
    "name": "ipython",
    "version": 3
   },
   "file_extension": ".py",
   "mimetype": "text/x-python",
   "name": "python",
   "nbconvert_exporter": "python",
   "pygments_lexer": "ipython3",
   "version": "3.12.4"
  }
 },
 "nbformat": 4,
 "nbformat_minor": 2
}
