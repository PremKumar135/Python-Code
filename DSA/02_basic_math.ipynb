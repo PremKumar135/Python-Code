{
 "cells": [
  {
   "cell_type": "markdown",
   "metadata": {},
   "source": [
    "## 1. Count digits"
   ]
  },
  {
   "cell_type": "code",
   "execution_count": 30,
   "metadata": {},
   "outputs": [
    {
     "name": "stdout",
     "output_type": "stream",
     "text": [
      "47\n",
      "CPU times: user 212 μs, sys: 167 μs, total: 379 μs\n",
      "Wall time: 364 μs\n"
     ]
    }
   ],
   "source": [
    "%%time\n",
    "### brute force\n",
    "def count_digits(n):\n",
    "    counter = 0 \n",
    "    while n>0:\n",
    "        counter +=1\n",
    "        n = n//10\n",
    "    return counter\n",
    "\n",
    "print(count_digits(12342353452341231534551234146234514324123523454))"
   ]
  },
  {
   "cell_type": "code",
   "execution_count": 29,
   "metadata": {},
   "outputs": [
    {
     "name": "stdout",
     "output_type": "stream",
     "text": [
      "47.09139797930114\n",
      "CPU times: user 182 μs, sys: 156 μs, total: 338 μs\n",
      "Wall time: 333 μs\n"
     ]
    }
   ],
   "source": [
    "%%time\n",
    "import math\n",
    "def count_digits(n):\n",
    "    return math.log10(n)+1\n",
    "\n",
    "print(count_digits(12342353452341231534551234146234514324123523454))  "
   ]
  },
  {
   "cell_type": "code",
   "execution_count": null,
   "metadata": {},
   "outputs": [],
   "source": []
  }
 ],
 "metadata": {
  "kernelspec": {
   "display_name": "venv_madewithml",
   "language": "python",
   "name": "python3"
  },
  "language_info": {
   "codemirror_mode": {
    "name": "ipython",
    "version": 3
   },
   "file_extension": ".py",
   "mimetype": "text/x-python",
   "name": "python",
   "nbconvert_exporter": "python",
   "pygments_lexer": "ipython3",
   "version": "3.10.11"
  }
 },
 "nbformat": 4,
 "nbformat_minor": 2
}
