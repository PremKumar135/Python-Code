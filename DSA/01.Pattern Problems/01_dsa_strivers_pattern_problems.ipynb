{
 "cells": [
  {
   "cell_type": "markdown",
   "metadata": {},
   "source": [
    "# 1. Pattern Printing"
   ]
  },
  {
   "cell_type": "code",
   "execution_count": 7,
   "metadata": {},
   "outputs": [
    {
     "name": "stdout",
     "output_type": "stream",
     "text": [
      "* * * \n",
      "\n",
      "* * * \n",
      "\n",
      "* * * \n",
      "\n"
     ]
    }
   ],
   "source": [
    "# prob 1 : https://takeuforward.org/pattern/pattern-1-rectangular-star-pattern/\n",
    "\n",
    "def print_pattern(n):\n",
    "    for i in range(n):\n",
    "        for j in range(n):\n",
    "            print('*', end=' ')\n",
    "        print('\\n')\n",
    "\n",
    "print_pattern(3)"
   ]
  },
  {
   "cell_type": "code",
   "execution_count": 10,
   "metadata": {},
   "outputs": [
    {
     "name": "stdout",
     "output_type": "stream",
     "text": [
      "* \n",
      "\n",
      "* * \n",
      "\n",
      "* * * \n",
      "\n",
      "* * * * \n",
      "\n"
     ]
    }
   ],
   "source": [
    "# prob2 : https://takeuforward.org/pattern/pattern-2-right-angled-triangle-pattern/\n",
    "def print_pattern(n):\n",
    "    for i in range(1, n+1):\n",
    "        for j in range(i):\n",
    "            print('*', end=' ')\n",
    "        print('\\n')\n",
    "\n",
    "print_pattern(4)"
   ]
  },
  {
   "cell_type": "code",
   "execution_count": 11,
   "metadata": {},
   "outputs": [
    {
     "name": "stdout",
     "output_type": "stream",
     "text": [
      "1 \n",
      "1 2 \n",
      "1 2 3 \n",
      "1 2 3 4 \n",
      "1 2 3 4 5 \n"
     ]
    }
   ],
   "source": [
    "# pattern 3 : https://www.naukri.com/code360/problems/triangle_6573690?utm_source=youtube&utm_medium=affiliate&utm_campaign=striver_patternproblems\n",
    "def pattern(n):\n",
    "    for row in range(1,n+1):\n",
    "        for col in range(1, row+1):\n",
    "            print(col, end=' ')\n",
    "        print()\n",
    "\n",
    "pattern(5)"
   ]
  },
  {
   "cell_type": "code",
   "execution_count": 12,
   "metadata": {},
   "outputs": [
    {
     "name": "stdout",
     "output_type": "stream",
     "text": [
      "1 \n",
      "2 2 \n",
      "3 3 3 \n",
      "4 4 4 4 \n",
      "5 5 5 5 5 \n"
     ]
    }
   ],
   "source": [
    "# pattern 4 : https://www.naukri.com/code360/problems/triangle_6573690?utm_source=youtube&utm_medium=affiliate&utm_campaign=striver_patternproblems\n",
    "def pattern(n):\n",
    "    for row in range(1,n+1):\n",
    "        for col in range(1, row+1):\n",
    "            print(row, end=' ')\n",
    "        print()\n",
    "\n",
    "pattern(5)"
   ]
  },
  {
   "cell_type": "code",
   "execution_count": 13,
   "metadata": {},
   "outputs": [
    {
     "name": "stdout",
     "output_type": "stream",
     "text": [
      "* * * * * \n",
      "* * * * \n",
      "* * * \n",
      "* * \n",
      "* \n"
     ]
    }
   ],
   "source": [
    "# patter 5: https://www.naukri.com/code360/problems/seeding_6581892?utm_source=youtube&utm_medium=affiliate&utm_campaign=striver_patternproblems&leftPanelTabValue=SUBMISSION\n",
    "def pattern(n):\n",
    "    for row in range(n):\n",
    "        for col in range(n-row):\n",
    "            print('*', end=' ')\n",
    "        print()\n",
    "pattern(5)"
   ]
  },
  {
   "cell_type": "code",
   "execution_count": 15,
   "metadata": {},
   "outputs": [
    {
     "name": "stdout",
     "output_type": "stream",
     "text": [
      "1 2 3 4 5 \n",
      "1 2 3 4 \n",
      "1 2 3 \n",
      "1 2 \n",
      "1 \n"
     ]
    }
   ],
   "source": [
    "# pattern 6: https://www.naukri.com/code360/problems/reverse-number-triangle_6581889?utm_source=youtube&utm_medium=affiliate&utm_campaign=striver_patternproblems&leftPanelTabValue=SUBMISSION\n",
    "def pattern(n):\n",
    "    for row in range(1, n+1):\n",
    "        for col in range(1, n+2-row):\n",
    "            print(col, end=' ')\n",
    "        print()\n",
    "\n",
    "pattern(5)"
   ]
  },
  {
   "cell_type": "code",
   "execution_count": 5,
   "metadata": {},
   "outputs": [
    {
     "name": "stdout",
     "output_type": "stream",
     "text": [
      "    *    \n",
      "   ***   \n",
      "  *****  \n",
      " ******* \n",
      "*********\n"
     ]
    }
   ],
   "source": [
    "# pattern 7 : https://www.naukri.com/code360/problems/star-triangle_6573671?utm_source=youtube&utm_medium=affiliate&utm_campaign=striver_patternproblems&leftPanelTabValue=SUBMISSION\n",
    "\n",
    "def pattern(n):\n",
    "    for row in range(n):\n",
    "        # print first set of spaces\n",
    "        for col in range(n-row-1):\n",
    "            print('', end=' ')\n",
    "\n",
    "        # printing stars\n",
    "        for col in range((2*row)+1):\n",
    "            print('*', end='')\n",
    "\n",
    "        # printing second set of spaces\n",
    "        for col in range(n-row-1):\n",
    "            print('', end=' ')\n",
    "\n",
    "        print()\n",
    "pattern(5)"
   ]
  },
  {
   "cell_type": "code",
   "execution_count": 6,
   "metadata": {},
   "outputs": [
    {
     "name": "stdout",
     "output_type": "stream",
     "text": [
      "*********\n",
      " ******* \n",
      "  *****  \n",
      "   ***   \n",
      "    *    \n"
     ]
    }
   ],
   "source": [
    "# pattern 8 : https://www.naukri.com/code360/problems/reverse-star-triangle_6573685?utm_source=youtube&utm_medium=affiliate&utm_campaign=striver_patternproblems&leftPanelTabValue=SUBMISSION\n",
    "def pattern(n):\n",
    "    for row in range(n):\n",
    "        #print 1st set of spaces\n",
    "        for col in range(row):\n",
    "            print('', end=' ')\n",
    "        \n",
    "        # print stars\n",
    "        for col in range((2*n)-1-(2*row)):\n",
    "            print('*', end='')\n",
    "\n",
    "        #print second set of space\n",
    "        for col in range(row):\n",
    "            print('', end=' ')\n",
    "        \n",
    "        #break the line\n",
    "        print()\n",
    "\n",
    "pattern(5)"
   ]
  },
  {
   "cell_type": "code",
   "execution_count": 10,
   "metadata": {},
   "outputs": [
    {
     "name": "stdout",
     "output_type": "stream",
     "text": [
      "    *    \n",
      "   ***   \n",
      "  *****  \n",
      " ******* \n",
      "*********\n",
      "*********\n",
      " ******* \n",
      "  *****  \n",
      "   ***   \n",
      "    *    \n"
     ]
    }
   ],
   "source": [
    "# pattern 9 : https://www.naukri.com/code360/problems/star-diamond_6573686?utm_source=youtube&utm_medium=affiliate&utm_campaign=striver_patternproblems&leftPanelTabValue=SUBMISSION\n",
    "def pattern(n):\n",
    "    #upper diamond\n",
    "    for row in range(n):\n",
    "        for col in range(n-1-row):\n",
    "            print('',end=' ')\n",
    "\n",
    "        for col in range((2*row)+1):\n",
    "            print('*', end='')\n",
    "        \n",
    "        for col in range(n-1-row):\n",
    "            print('', end=' ')\n",
    "        print()\n",
    "\n",
    "    #lower diamond\n",
    "    for row in range(n):\n",
    "        for col in range(row):\n",
    "            print('', end=' ')\n",
    "\n",
    "        for col in range((2*n)-1-(2*row)):\n",
    "            print('*', end='')\n",
    "\n",
    "        for col in range(row):\n",
    "            print('', end=' ')\n",
    "        \n",
    "        print()\n",
    "\n",
    "pattern(5)"
   ]
  },
  {
   "cell_type": "code",
   "execution_count": 13,
   "metadata": {},
   "outputs": [
    {
     "name": "stdout",
     "output_type": "stream",
     "text": [
      "*\n",
      "**\n",
      "***\n",
      "****\n",
      "*****\n",
      "****\n",
      "***\n",
      "**\n",
      "*\n"
     ]
    }
   ],
   "source": [
    "# pattern 10 : https://www.naukri.com/code360/problems/rotated-triangle_6573688?utm_source=youtube&utm_medium=affiliate&utm_campaign=striver_patternproblems&leftPanelTabValue=SUBMISSION\n",
    "def pattern(n):\n",
    "    for row in range(1,n+1):\n",
    "        for col in range(row):\n",
    "            print('*', end='')\n",
    "        print()\n",
    "\n",
    "    for row in range(1,n):\n",
    "        for col in range(n-row):\n",
    "            print('*', end='')\n",
    "        print()\n",
    "\n",
    "pattern(5)        "
   ]
  },
  {
   "cell_type": "code",
   "execution_count": 1,
   "metadata": {},
   "outputs": [
    {
     "name": "stdout",
     "output_type": "stream",
     "text": [
      "1 \n",
      "1 0 \n",
      "1 0 1 \n",
      "1 0 1 0 \n",
      "1 0 1 0 1 \n"
     ]
    }
   ],
   "source": [
    "# patter 11: https://www.naukri.com/code360/problems/binary-number-triangle_6581890?utm_source=youtube&utm_medium=affiliate&utm_campaign=striver_patternproblems&leftPanelTabValue=SUBMISSION\n",
    "def pattern(n):\n",
    "    for row in range(1, n+1):\n",
    "        start_odd = 1\n",
    "        start_even = 0\n",
    "        for col in range(1, row+1):\n",
    "            if start_odd%2!=0:\n",
    "                print(start_odd, end=' ')\n",
    "                start_odd = abs(start_odd - 1)\n",
    "            else:\n",
    "                print(start_even, end=' ')\n",
    "                start_even = abs(start_even-1)\n",
    "        print()\n",
    "\n",
    "pattern(5)"
   ]
  },
  {
   "cell_type": "code",
   "execution_count": 17,
   "metadata": {},
   "outputs": [
    {
     "name": "stdout",
     "output_type": "stream",
     "text": [
      "1      1\n",
      "12    21\n",
      "123  321\n",
      "12344321\n"
     ]
    }
   ],
   "source": [
    "# patter 12 : https://www.naukri.com/code360/problems/number-crown_6581894?utm_source=youtube&utm_medium=affiliate&utm_campaign=striver_patternproblems\n",
    "def pattern(n):\n",
    "    for row in range(1,n+1):\n",
    "        #1st set of numbers\n",
    "        for col in range(1,row+1):\n",
    "            print(col, end='')\n",
    "\n",
    "        # for space\n",
    "        for col in range(0, 2*(n-row)):\n",
    "            print('', end=' ')\n",
    "\n",
    "        #2nd set of numbers\n",
    "        for col in range(row, 0, -1):\n",
    "            print(col, end='')\n",
    "        \n",
    "        print()\n",
    "\n",
    "pattern(4)"
   ]
  },
  {
   "cell_type": "code",
   "execution_count": 2,
   "metadata": {},
   "outputs": [
    {
     "name": "stdout",
     "output_type": "stream",
     "text": [
      "1 \n",
      "2 3 \n",
      "4 5 6 \n",
      "7 8 9 10 \n",
      "11 12 13 14 15 \n"
     ]
    }
   ],
   "source": [
    "#pattern 13: https://www.naukri.com/code360/problems/increasing-number-triangle_6581893?utm_source=youtube&utm_medium=affiliate&utm_campaign=striver_patternproblems&leftPanelTabValue=SUBMISSION\n",
    "\n",
    "def pattern(n):\n",
    "    start = 1\n",
    "    for row in range(1, n+1):\n",
    "        for col in range(1, row+1):\n",
    "            print(start, end=' ')\n",
    "            start +=1\n",
    "        print()\n",
    "\n",
    "pattern(5)"
   ]
  },
  {
   "cell_type": "code",
   "execution_count": 19,
   "metadata": {},
   "outputs": [
    {
     "name": "stdout",
     "output_type": "stream",
     "text": [
      "A \n",
      "A B \n",
      "A B C \n",
      "A B C D \n"
     ]
    }
   ],
   "source": [
    "#patter 14 https://www.naukri.com/code360/problems/increasing-letter-triangle_6581897?utm_source=youtube&utm_medium=affiliate&utm_campaign=striver_patternproblems&leftPanelTabValue=SUBMISSION\n",
    "def pattern(n):\n",
    "    letters = 'ABCDEFGHIJKLMNOPQRSTUVWXYZ'\n",
    "    for row in range(n):\n",
    "        for col in range(row+1):\n",
    "            print(letters[col], end=' ')\n",
    "        print()\n",
    "\n",
    "pattern(4)"
   ]
  },
  {
   "cell_type": "code",
   "execution_count": 21,
   "metadata": {},
   "outputs": [
    {
     "name": "stdout",
     "output_type": "stream",
     "text": [
      "A B C \n",
      "A B \n",
      "A \n"
     ]
    }
   ],
   "source": [
    "# patter 15: https://www.naukri.com/code360/problems/reverse-letter-triangle_6581906?utm_source=youtube&utm_medium=affiliate&utm_campaign=striver_patternproblems&leftPanelTabValue=SUBMISSION\n",
    "def pattern(n):\n",
    "    letters = 'ABCDEFGHIJKLMNOPQRSTUVWXYZ'\n",
    "    for row in range(n):\n",
    "        for col in range(n-row):\n",
    "            print(letters[col], end=' ')\n",
    "        print()\n",
    "\n",
    "pattern(3)"
   ]
  },
  {
   "cell_type": "code",
   "execution_count": 22,
   "metadata": {},
   "outputs": [
    {
     "name": "stdout",
     "output_type": "stream",
     "text": [
      "A A A A \n",
      "B B B \n",
      "C C \n",
      "D \n"
     ]
    }
   ],
   "source": [
    "# pattern 16: https://www.naukri.com/code360/problems/alpha-ramp_6581888?utm_source=youtube&utm_medium=affiliate&utm_campaign=striver_patternproblems&leftPanelTabValue=SUBMISSION\n",
    "def pattern(n):\n",
    "    letters = 'ABCDEFGHIJKLMNOPQRSTUVWXYZ'\n",
    "    for row in range(n):\n",
    "        for col in range(n-row):\n",
    "            print(letters[row], end=' ')\n",
    "        print()\n",
    "pattern(4)"
   ]
  },
  {
   "cell_type": "code",
   "execution_count": null,
   "metadata": {},
   "outputs": [],
   "source": []
  }
 ],
 "metadata": {
  "kernelspec": {
   "display_name": "venv_learning",
   "language": "python",
   "name": "python3"
  },
  "language_info": {
   "codemirror_mode": {
    "name": "ipython",
    "version": 3
   },
   "file_extension": ".py",
   "mimetype": "text/x-python",
   "name": "python",
   "nbconvert_exporter": "python",
   "pygments_lexer": "ipython3",
   "version": "3.12.3"
  }
 },
 "nbformat": 4,
 "nbformat_minor": 2
}
