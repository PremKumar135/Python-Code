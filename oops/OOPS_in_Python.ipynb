{
  "nbformat": 4,
  "nbformat_minor": 0,
  "metadata": {
    "colab": {
      "name": "OOPS in Python",
      "provenance": [],
      "collapsed_sections": []
    },
    "kernelspec": {
      "name": "python3",
      "display_name": "Python 3"
    },
    "language_info": {
      "name": "python"
    }
  },
  "cells": [
    {
      "cell_type": "markdown",
      "metadata": {
        "id": "gN9HTGcPYDB1"
      },
      "source": [
        "## Class:\n",
        "- class\n",
        "- Object\n",
        "- static method\n",
        "- class method\n",
        "- use funcA defined in the class used in funcB defined in the same class\n",
        "- Inheritance\n",
        "- Polymorphism (same function name, in different class)\n",
        "- Encapsulation (private, public, protected)\n",
        "- abstract class"
      ]
    },
    {
      "cell_type": "code",
      "metadata": {
        "colab": {
          "base_uri": "https://localhost:8080/"
        },
        "id": "kgQ59L0fUA9W",
        "outputId": "809e0c4d-b3d5-473b-d109-481829db2d73"
      },
      "source": [
        "# class, object\n",
        "class Calc(object):\n",
        "  def __init__(self):\n",
        "    pass\n",
        "\n",
        "  def add(self, *args):\n",
        "    return sum([i for i in args])\n",
        "\n",
        "  def sub(self, a,b):\n",
        "    return a-b\n",
        "\n",
        "  def mul(self, *args):\n",
        "    start = 1\n",
        "    for i in args:\n",
        "      res = start*i\n",
        "      start = res\n",
        "    return res\n",
        "\n",
        "  def div(self, a,b):\n",
        "    return a/b\n",
        "\n",
        "my_calc = Calc()\n",
        "print(my_calc.add(1,2,3))\n",
        "print(my_calc.sub(1,2))\n",
        "print(my_calc.mul(1,2,3,4,5,6))\n",
        "print(my_calc.div(4,2))\n",
        "\n"
      ],
      "execution_count": 14,
      "outputs": [
        {
          "output_type": "stream",
          "name": "stdout",
          "text": [
            "6\n",
            "-1\n",
            "720\n",
            "2.0\n"
          ]
        }
      ]
    },
    {
      "cell_type": "code",
      "metadata": {
        "colab": {
          "base_uri": "https://localhost:8080/"
        },
        "id": "NYDTq_IuWKR0",
        "outputId": "d781f6fc-0dee-43da-ca48-3ea8be6e49c2"
      },
      "source": [
        "## static method and class method, functionA used in the same class used in functionB in same class\n",
        "\n",
        "class Employee:\n",
        "  pay_rise = 0.2\n",
        "\n",
        "  def __init__(self, fname, lname, dob):\n",
        "    self.fname = fname\n",
        "    self.lname = lname\n",
        "    self.dob = dob\n",
        "\n",
        "  def generate_email(self):\n",
        "    email = self.fname + '.' + self.lname +'@work.com'\n",
        "    return email\n",
        "\n",
        "  @staticmethod    \n",
        "  def welcome_msg():\n",
        "    return 'Welcome to the company!!!'\n",
        "\n",
        "  @classmethod\n",
        "  def new_salary(cls, salary):\n",
        "    new_salary = salary + (cls.pay_rise * salary)\n",
        "    return new_salary\n",
        "\n",
        "  def get_age(self):\n",
        "    year = int((self.dob).split('-')[-1])\n",
        "    return 2021-year\n",
        "\n",
        "  def is_ready_for_promotion(self):\n",
        "    if self.get_age()>40:\n",
        "      return 'YES'\n",
        "    return 'NO'\n",
        "\n",
        "\n",
        "emp1 = Employee('prem', 'kumar', '5-3-1995')\n",
        "print(emp1.welcome_msg())\n",
        "print(emp1.generate_email())\n",
        "print(emp1.new_salary(100))\n",
        "print(emp1.is_ready_for_promotion())"
      ],
      "execution_count": 20,
      "outputs": [
        {
          "output_type": "stream",
          "name": "stdout",
          "text": [
            "Welcome to the company!!!\n",
            "prem.kumar@work.com\n",
            "120.0\n",
            "NO\n"
          ]
        }
      ]
    },
    {
      "cell_type": "code",
      "metadata": {
        "colab": {
          "base_uri": "https://localhost:8080/"
        },
        "id": "9BsiMV76bogk",
        "outputId": "99c79a4c-087e-4f68-daba-18cc2632179b"
      },
      "source": [
        "### Inheritance and Polymorphism  (same function used in parent class and child class)\n",
        "\n",
        "class Bank:\n",
        "  def __init__(self, fname, lname, contact, acc_num, dob):\n",
        "    self.fname = fname\n",
        "    self.lname = lname\n",
        "    self.contact = contact\n",
        "    self.acc_num = acc_num\n",
        "    self.dob = dob\n",
        "\n",
        "  def get_age(self):\n",
        "    year = int((self.dob).split('-')[-1])\n",
        "    return 2021-year\n",
        "\n",
        "  def is_ready_for_banking(self):\n",
        "    year = self.get_age()\n",
        "    if year > 18:\n",
        "      print('Ready for General Banking')\n",
        "    else:\n",
        "      print('Ready for General Banking')\n",
        "\n",
        "class customer(Bank):\n",
        "  def __init__(self, fname, lname, contact, acc_num, dob):\n",
        "    super().__init__(fname, lname, contact, acc_num, dob)\n",
        "\n",
        "  def acc_details(self):\n",
        "    print('Name:', self.fname + ' '+ self.lname)\n",
        "    print('Account Number:', self.acc_num)\n",
        "    print('Contact:', self.contact)\n",
        "    print('Date of Birth', self.dob)\n",
        "\n",
        "  def is_ready_for_banking(self):\n",
        "    year = self.get_age()\n",
        "    if year > 21:\n",
        "      print('Ready for Investment Banking')\n",
        "    else:\n",
        "      print('Not ready for Investment banking')\n",
        "  \n",
        "a = customer('prem', 'kumar', '123', 'sdfd33232', '5-3-1995')\n",
        "print(a.acc_details())\n",
        "print(a.is_ready_for_banking())   #note: 'is_ready_for_banking' returning value from the customer class not from Bank class"
      ],
      "execution_count": 64,
      "outputs": [
        {
          "output_type": "stream",
          "name": "stdout",
          "text": [
            "Name: prem kumar\n",
            "Account Number: sdfd33232\n",
            "Contact: 123\n",
            "Date of Birth 5-3-1995\n",
            "None\n",
            "Ready for Investment Banking\n",
            "None\n"
          ]
        }
      ]
    },
    {
      "cell_type": "code",
      "metadata": {
        "colab": {
          "base_uri": "https://localhost:8080/",
          "height": 478
        },
        "id": "mpGa4PezeP8J",
        "outputId": "73b24661-f823-4b3a-aa13-86faa258300f"
      },
      "source": [
        "### Encapsulation  --> hide the information which doesn't to show out\n",
        "\n",
        "class Calc1:\n",
        "  def __init__(self):\n",
        "    self._protected = 5       # this can only be used inside the class and its subclass not outside the class\n",
        "    self.__private = 100\n",
        "\n",
        "  def __check(self, *args):  #protected class\n",
        "    for i in args:\n",
        "      if type(i)== int or type(i)==float:\n",
        "        return 1\n",
        "    return 0\n",
        "\n",
        "  def add(self, *args):\n",
        "    checked = self.__check(*args)\n",
        "    if checked:\n",
        "      return sum([i for i in args])\n",
        "    else:\n",
        "      return 'enter it in int or float'\n",
        "\n",
        "  def sub(self, a,b):\n",
        "    checked = self.__check(a,b)\n",
        "    if checked:\n",
        "      return a-b\n",
        "    else:\n",
        "      return 'enter it in int or float'\n",
        "\n",
        "  def mul(self, *args):\n",
        "    checked = self.__check(*args)\n",
        "    if checked:\n",
        "      start = 1\n",
        "      for i in args:\n",
        "        res = start*i\n",
        "        start = res\n",
        "      return res\n",
        "    else:\n",
        "      return 'enter it in int or float'\n",
        "\n",
        "  def div(self, a,b):\n",
        "    checked = self.__check(a,b)\n",
        "    if checked:\n",
        "      return a/b\n",
        "    else:\n",
        "      return 'enter the arguments in int or float'\n",
        "\n",
        "  def print_protected(self):\n",
        "    return self._protected\n",
        "\n",
        "  def print_private(self):\n",
        "    return self.__private\n",
        "\n",
        "class Calc2(Calc1):\n",
        "  def __init__(self):\n",
        "    super().__init__()\n",
        "    pass\n",
        "  \n",
        "  def print_Calc1_protected(self):\n",
        "    return self._protected\n",
        "\n",
        "  def print_Calc1_private(self):\n",
        "    return self.__private\n",
        "\n",
        "\n",
        "\n",
        "my_calc = Calc1()\n",
        "print(my_calc.add(1,2,3))\n",
        "print(my_calc.sub(1,2))\n",
        "print(my_calc.mul(1,2,3,4,5,6))\n",
        "print(my_calc.div(4,2))\n",
        "print(my_calc.add('1', '2'))\n",
        "print(my_calc.print_protected())\n",
        "print(my_calc.print_private())\n",
        "\n",
        "print('--')\n",
        "my_calc2 = Calc2()\n",
        "print(my_calc2.print_Calc1_protected())  #Note: cacl2 can access protected variable from calc1 but not private variable from calc1\n",
        "print(my_calc2.print_Calc1_private())"
      ],
      "execution_count": 81,
      "outputs": [
        {
          "output_type": "stream",
          "name": "stdout",
          "text": [
            "6\n",
            "-1\n",
            "720\n",
            "2.0\n",
            "enter it in int or float\n",
            "5\n",
            "100\n",
            "--\n",
            "5\n"
          ]
        },
        {
          "output_type": "error",
          "ename": "AttributeError",
          "evalue": "ignored",
          "traceback": [
            "\u001b[0;31m---------------------------------------------------------------------------\u001b[0m",
            "\u001b[0;31mAttributeError\u001b[0m                            Traceback (most recent call last)",
            "\u001b[0;32m<ipython-input-81-5e2ffebdc6a3>\u001b[0m in \u001b[0;36m<module>\u001b[0;34m()\u001b[0m\n\u001b[1;32m     75\u001b[0m \u001b[0mmy_calc2\u001b[0m \u001b[0;34m=\u001b[0m \u001b[0mCalc2\u001b[0m\u001b[0;34m(\u001b[0m\u001b[0;34m)\u001b[0m\u001b[0;34m\u001b[0m\u001b[0;34m\u001b[0m\u001b[0m\n\u001b[1;32m     76\u001b[0m \u001b[0mprint\u001b[0m\u001b[0;34m(\u001b[0m\u001b[0mmy_calc2\u001b[0m\u001b[0;34m.\u001b[0m\u001b[0mprint_Calc1_protected\u001b[0m\u001b[0;34m(\u001b[0m\u001b[0;34m)\u001b[0m\u001b[0;34m)\u001b[0m\u001b[0;34m\u001b[0m\u001b[0;34m\u001b[0m\u001b[0m\n\u001b[0;32m---> 77\u001b[0;31m \u001b[0mprint\u001b[0m\u001b[0;34m(\u001b[0m\u001b[0mmy_calc2\u001b[0m\u001b[0;34m.\u001b[0m\u001b[0mprint_Calc1_private\u001b[0m\u001b[0;34m(\u001b[0m\u001b[0;34m)\u001b[0m\u001b[0;34m)\u001b[0m\u001b[0;34m\u001b[0m\u001b[0;34m\u001b[0m\u001b[0m\n\u001b[0m",
            "\u001b[0;32m<ipython-input-81-5e2ffebdc6a3>\u001b[0m in \u001b[0;36mprint_Calc1_private\u001b[0;34m(self)\u001b[0m\n\u001b[1;32m     59\u001b[0m \u001b[0;34m\u001b[0m\u001b[0m\n\u001b[1;32m     60\u001b[0m   \u001b[0;32mdef\u001b[0m \u001b[0mprint_Calc1_private\u001b[0m\u001b[0;34m(\u001b[0m\u001b[0mself\u001b[0m\u001b[0;34m)\u001b[0m\u001b[0;34m:\u001b[0m\u001b[0;34m\u001b[0m\u001b[0;34m\u001b[0m\u001b[0m\n\u001b[0;32m---> 61\u001b[0;31m     \u001b[0;32mreturn\u001b[0m \u001b[0mself\u001b[0m\u001b[0;34m.\u001b[0m\u001b[0m__private\u001b[0m\u001b[0;34m\u001b[0m\u001b[0;34m\u001b[0m\u001b[0m\n\u001b[0m\u001b[1;32m     62\u001b[0m \u001b[0;34m\u001b[0m\u001b[0m\n\u001b[1;32m     63\u001b[0m \u001b[0;34m\u001b[0m\u001b[0m\n",
            "\u001b[0;31mAttributeError\u001b[0m: 'Calc2' object has no attribute '_Calc2__private'"
          ]
        }
      ]
    },
    {
      "cell_type": "code",
      "metadata": {
        "colab": {
          "base_uri": "https://localhost:8080/"
        },
        "id": "URAqKiEskaLA",
        "outputId": "e0c2b074-2ad5-4d3f-c58d-d5f1e2fba151"
      },
      "source": [
        "### abstract method\n",
        "from abc import ABC, abstractmethod\n",
        "\n",
        "class Shape(ABC):\n",
        "  @abstractmethod\n",
        "  def area(self):\n",
        "    pass\n",
        "\n",
        "  @abstractmethod\n",
        "  def perimeter(self):\n",
        "    pass\n",
        "\n",
        "class Rectangle(Shape):\n",
        "  def __init__(self, l, b):\n",
        "    self.l = l\n",
        "    self.b = b\n",
        "\n",
        "  def area(self):\n",
        "    return self.l*self.b\n",
        "\n",
        "  def perimeter(self):\n",
        "    return 2*(self.l + self.b)   #since we mention perimeter in Shape class we must create a perimeter func in child class(Rectangle)\n",
        "\n",
        "rec = Rectangle(5,6)\n",
        "print(rec.area())\n",
        "print(rec.perimeter())"
      ],
      "execution_count": 85,
      "outputs": [
        {
          "output_type": "stream",
          "name": "stdout",
          "text": [
            "30\n",
            "22\n"
          ]
        }
      ]
    },
    {
      "cell_type": "code",
      "metadata": {
        "id": "QA1CV7w4vpLh"
      },
      "source": [
        ""
      ],
      "execution_count": null,
      "outputs": []
    }
  ]
}