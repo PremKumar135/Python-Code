{
  "cells": [
    {
      "cell_type": "markdown",
      "metadata": {
        "id": "gN9HTGcPYDB1"
      },
      "source": [
        "## Class:\n",
        "- class, Object\n",
        "- private method, protected method, static method\n",
        "- class method\n",
        "- Inheritance\n",
        "- Polymorphism (same function name, in different class)\n",
        "- Encapsulation (private, public, protected)\n",
        "- abstract class"
      ]
    },
    {
      "cell_type": "markdown",
      "metadata": {},
      "source": [
        "## 1. Class, Object"
      ]
    },
    {
      "cell_type": "code",
      "execution_count": 14,
      "metadata": {
        "colab": {
          "base_uri": "https://localhost:8080/"
        },
        "id": "kgQ59L0fUA9W",
        "outputId": "809e0c4d-b3d5-473b-d109-481829db2d73"
      },
      "outputs": [
        {
          "name": "stdout",
          "output_type": "stream",
          "text": [
            "6\n",
            "-1\n",
            "720\n",
            "2.0\n"
          ]
        }
      ],
      "source": [
        "# class, object\n",
        "class Calc(object):\n",
        "  def __init__(self):\n",
        "    pass\n",
        "\n",
        "  def add(self, *args):\n",
        "    return sum([i for i in args])\n",
        "\n",
        "  def sub(self, a,b):\n",
        "    return a-b\n",
        "\n",
        "  def mul(self, *args):\n",
        "    start = 1\n",
        "    for i in args:\n",
        "      res = start*i\n",
        "      start = res\n",
        "    return res\n",
        "\n",
        "  def div(self, a,b):\n",
        "    return a/b\n",
        "\n",
        "my_calc = Calc()\n",
        "print(my_calc.add(1,2,3))\n",
        "print(my_calc.sub(1,2))\n",
        "print(my_calc.mul(1,2,3,4,5,6))\n",
        "print(my_calc.div(4,2))\n",
        "\n"
      ]
    },
    {
      "cell_type": "markdown",
      "metadata": {},
      "source": [
        "## 2. Private, Protected, static"
      ]
    },
    {
      "cell_type": "code",
      "execution_count": 16,
      "metadata": {},
      "outputs": [
        {
          "name": "stdout",
          "output_type": "stream",
          "text": [
            "11\n",
            "-1\n",
            "30\n",
            "0.8333333333333334\n",
            "\n",
            "++++++++++\n",
            "1\n",
            "30\n",
            "30\n"
          ]
        },
        {
          "ename": "AttributeError",
          "evalue": "'Calc' object has no attribute '__add'",
          "output_type": "error",
          "traceback": [
            "\u001b[0;31m---------------------------------------------------------------------------\u001b[0m",
            "\u001b[0;31mAttributeError\u001b[0m                            Traceback (most recent call last)",
            "Cell \u001b[0;32mIn[16], line 32\u001b[0m\n\u001b[1;32m     30\u001b[0m \u001b[38;5;28mprint\u001b[39m(a\u001b[38;5;241m.\u001b[39mmul(\u001b[38;5;241m5\u001b[39m,\u001b[38;5;241m6\u001b[39m))   \u001b[38;5;66;03m# calling static  method outside --> works --> but not recommended\u001b[39;00m\n\u001b[1;32m     31\u001b[0m \u001b[38;5;28mprint\u001b[39m(Calc\u001b[38;5;241m.\u001b[39mmul(\u001b[38;5;241m5\u001b[39m,\u001b[38;5;241m6\u001b[39m))\u001b[38;5;66;03m# calling static using class itself --> works --> recommended\u001b[39;00m\n\u001b[0;32m---> 32\u001b[0m \u001b[38;5;28mprint\u001b[39m(\u001b[43ma\u001b[49m\u001b[38;5;241;43m.\u001b[39;49m\u001b[43m__add\u001b[49m(\u001b[38;5;241m5\u001b[39m,\u001b[38;5;241m6\u001b[39m)) \u001b[38;5;66;03m# callling private method outside --> will get attribute error \u001b[39;00m\n",
            "\u001b[0;31mAttributeError\u001b[0m: 'Calc' object has no attribute '__add'"
          ]
        }
      ],
      "source": [
        "from dataclasses import dataclass\n",
        "\n",
        "@dataclass\n",
        "class Calc:\n",
        "    def __add(self,a,b): # private method --> calling it outside will raise attribute error\n",
        "        return a+b\n",
        "    \n",
        "    def _sub(self,a,b):  # protected method --> will work outside but not recommended\n",
        "        return a-b\n",
        "    \n",
        "    @staticmethod\n",
        "    def mul(a,b):  # static method --> will work outside but not recommended.. Note: 'self' not in function\n",
        "        return a*b\n",
        "    \n",
        "    def div(self,a,b):\n",
        "        return a/b\n",
        "    \n",
        "    def printf(self, a,b):\n",
        "        print(self.__add(a,b))  # private method works inside the class\n",
        "        print(self._sub(a,b))   # protected method works inside the class\n",
        "        print(self.mul(a,b))    # static method \"works\" inside the class but not recomm\n",
        "        print(self.div(a,b))\n",
        "        return ''\n",
        "\n",
        "a = Calc()\n",
        "print(a.printf(5,6))\n",
        "\n",
        "print('+'*10)\n",
        "print(a._sub(5,4))  # calling protected method outside --> works --> but not recommended\n",
        "print(a.mul(5,6))   # calling static  method outside --> works --> but not recommended\n",
        "print(Calc.mul(5,6))# calling static using class itself --> works --> recommended\n",
        "print(a.__add(5,6)) # callling private method outside --> will get attribute error but inside the class works\n"
      ]
    },
    {
      "cell_type": "markdown",
      "metadata": {},
      "source": [
        "## 3. class method\n",
        "- points to class itself"
      ]
    },
    {
      "cell_type": "code",
      "execution_count": 20,
      "metadata": {},
      "outputs": [
        {
          "name": "stdout",
          "output_type": "stream",
          "text": [
            "Number of employees: 1\n",
            "Number of employees: 2\n"
          ]
        }
      ],
      "source": [
        "from dataclasses import dataclass, field\n",
        "\n",
        "@dataclass\n",
        "class Employee:\n",
        "    name : str\n",
        "    department : str\n",
        "    num_employees : int = field(default=0, init=False, repr= False)\n",
        "\n",
        "    def __post_init__(self):\n",
        "        type(self).num_employees +=1\n",
        "\n",
        "    @classmethod\n",
        "    def from_string(cls, string):\n",
        "        name, department = string.split(', ')\n",
        "        return cls(name, department)            # creating new instance by calling the class itself here\n",
        "    \n",
        "    @classmethod\n",
        "    def get_num_emp(cls):\n",
        "        return cls.num_employees\n",
        "    \n",
        "\n",
        "emp1 = Employee.from_string(\"John Doe, Developer\")\n",
        "print(f\"Number of employees: {Employee.get_num_emp()}\") \n",
        "\n",
        "emp2 = Employee.from_string(\"Jane Smith, Designer\")\n",
        "print(f\"Number of employees: {Employee.get_num_emp()}\") "
      ]
    },
    {
      "cell_type": "markdown",
      "metadata": {},
      "source": [
        "## 4. Inheritance and Polymorphism"
      ]
    },
    {
      "cell_type": "code",
      "execution_count": 64,
      "metadata": {
        "colab": {
          "base_uri": "https://localhost:8080/"
        },
        "id": "9BsiMV76bogk",
        "outputId": "99c79a4c-087e-4f68-daba-18cc2632179b"
      },
      "outputs": [
        {
          "name": "stdout",
          "output_type": "stream",
          "text": [
            "Name: prem kumar\n",
            "Account Number: sdfd33232\n",
            "Contact: 123\n",
            "Date of Birth 5-3-1995\n",
            "None\n",
            "Ready for Investment Banking\n",
            "None\n"
          ]
        }
      ],
      "source": [
        "### Inheritance and Polymorphism  (same function used in parent class and child class)\n",
        "\n",
        "class Bank:\n",
        "  def __init__(self, fname, lname, contact, acc_num, dob):\n",
        "    self.fname = fname\n",
        "    self.lname = lname\n",
        "    self.contact = contact\n",
        "    self.acc_num = acc_num\n",
        "    self.dob = dob\n",
        "\n",
        "  def get_age(self):\n",
        "    year = int((self.dob).split('-')[-1])\n",
        "    return 2021-year\n",
        "\n",
        "  def is_ready_for_banking(self):\n",
        "    year = self.get_age()\n",
        "    if year > 18:\n",
        "      print('Ready for General Banking')\n",
        "    else:\n",
        "      print('Ready for General Banking')\n",
        "\n",
        "class customer(Bank):\n",
        "  def __init__(self, fname, lname, contact, acc_num, dob):\n",
        "    super().__init__(fname, lname, contact, acc_num, dob)\n",
        "\n",
        "  def acc_details(self):\n",
        "    print('Name:', self.fname + ' '+ self.lname)\n",
        "    print('Account Number:', self.acc_num)\n",
        "    print('Contact:', self.contact)\n",
        "    print('Date of Birth', self.dob)\n",
        "\n",
        "  def is_ready_for_banking(self):\n",
        "    year = self.get_age()\n",
        "    if year > 21:\n",
        "      print('Ready for Investment Banking')\n",
        "    else:\n",
        "      print('Not ready for Investment banking')\n",
        "  \n",
        "a = customer('prem', 'kumar', '123', 'sdfd33232', '5-3-1995')\n",
        "print(a.acc_details())\n",
        "print(a.is_ready_for_banking())   #note: 'is_ready_for_banking' returning value from the customer class not from Bank class"
      ]
    },
    {
      "cell_type": "markdown",
      "metadata": {},
      "source": [
        "## 5. Encapsulation"
      ]
    },
    {
      "cell_type": "code",
      "execution_count": 81,
      "metadata": {
        "colab": {
          "base_uri": "https://localhost:8080/",
          "height": 478
        },
        "id": "mpGa4PezeP8J",
        "outputId": "73b24661-f823-4b3a-aa13-86faa258300f"
      },
      "outputs": [
        {
          "name": "stdout",
          "output_type": "stream",
          "text": [
            "6\n",
            "-1\n",
            "720\n",
            "2.0\n",
            "enter it in int or float\n",
            "5\n",
            "100\n",
            "--\n",
            "5\n"
          ]
        },
        {
          "ename": "AttributeError",
          "evalue": "ignored",
          "output_type": "error",
          "traceback": [
            "\u001b[0;31m---------------------------------------------------------------------------\u001b[0m",
            "\u001b[0;31mAttributeError\u001b[0m                            Traceback (most recent call last)",
            "\u001b[0;32m<ipython-input-81-5e2ffebdc6a3>\u001b[0m in \u001b[0;36m<module>\u001b[0;34m()\u001b[0m\n\u001b[1;32m     75\u001b[0m \u001b[0mmy_calc2\u001b[0m \u001b[0;34m=\u001b[0m \u001b[0mCalc2\u001b[0m\u001b[0;34m(\u001b[0m\u001b[0;34m)\u001b[0m\u001b[0;34m\u001b[0m\u001b[0;34m\u001b[0m\u001b[0m\n\u001b[1;32m     76\u001b[0m \u001b[0mprint\u001b[0m\u001b[0;34m(\u001b[0m\u001b[0mmy_calc2\u001b[0m\u001b[0;34m.\u001b[0m\u001b[0mprint_Calc1_protected\u001b[0m\u001b[0;34m(\u001b[0m\u001b[0;34m)\u001b[0m\u001b[0;34m)\u001b[0m\u001b[0;34m\u001b[0m\u001b[0;34m\u001b[0m\u001b[0m\n\u001b[0;32m---> 77\u001b[0;31m \u001b[0mprint\u001b[0m\u001b[0;34m(\u001b[0m\u001b[0mmy_calc2\u001b[0m\u001b[0;34m.\u001b[0m\u001b[0mprint_Calc1_private\u001b[0m\u001b[0;34m(\u001b[0m\u001b[0;34m)\u001b[0m\u001b[0;34m)\u001b[0m\u001b[0;34m\u001b[0m\u001b[0;34m\u001b[0m\u001b[0m\n\u001b[0m",
            "\u001b[0;32m<ipython-input-81-5e2ffebdc6a3>\u001b[0m in \u001b[0;36mprint_Calc1_private\u001b[0;34m(self)\u001b[0m\n\u001b[1;32m     59\u001b[0m \u001b[0;34m\u001b[0m\u001b[0m\n\u001b[1;32m     60\u001b[0m   \u001b[0;32mdef\u001b[0m \u001b[0mprint_Calc1_private\u001b[0m\u001b[0;34m(\u001b[0m\u001b[0mself\u001b[0m\u001b[0;34m)\u001b[0m\u001b[0;34m:\u001b[0m\u001b[0;34m\u001b[0m\u001b[0;34m\u001b[0m\u001b[0m\n\u001b[0;32m---> 61\u001b[0;31m     \u001b[0;32mreturn\u001b[0m \u001b[0mself\u001b[0m\u001b[0;34m.\u001b[0m\u001b[0m__private\u001b[0m\u001b[0;34m\u001b[0m\u001b[0;34m\u001b[0m\u001b[0m\n\u001b[0m\u001b[1;32m     62\u001b[0m \u001b[0;34m\u001b[0m\u001b[0m\n\u001b[1;32m     63\u001b[0m \u001b[0;34m\u001b[0m\u001b[0m\n",
            "\u001b[0;31mAttributeError\u001b[0m: 'Calc2' object has no attribute '_Calc2__private'"
          ]
        }
      ],
      "source": [
        "### Encapsulation  --> hide the information which doesn't to show out\n",
        "\n",
        "class Calc1:\n",
        "  def __init__(self):\n",
        "    self._protected = 5       # this can only be used inside the class and its subclass not outside the class\n",
        "    self.__private = 100\n",
        "\n",
        "  def __check(self, *args):  #protected class\n",
        "    for i in args:\n",
        "      if type(i)== int or type(i)==float:\n",
        "        return 1\n",
        "    return 0\n",
        "\n",
        "  def add(self, *args):\n",
        "    checked = self.__check(*args)\n",
        "    if checked:\n",
        "      return sum([i for i in args])\n",
        "    else:\n",
        "      return 'enter it in int or float'\n",
        "\n",
        "  def sub(self, a,b):\n",
        "    checked = self.__check(a,b)\n",
        "    if checked:\n",
        "      return a-b\n",
        "    else:\n",
        "      return 'enter it in int or float'\n",
        "\n",
        "  def mul(self, *args):\n",
        "    checked = self.__check(*args)\n",
        "    if checked:\n",
        "      start = 1\n",
        "      for i in args:\n",
        "        res = start*i\n",
        "        start = res\n",
        "      return res\n",
        "    else:\n",
        "      return 'enter it in int or float'\n",
        "\n",
        "  def div(self, a,b):\n",
        "    checked = self.__check(a,b)\n",
        "    if checked:\n",
        "      return a/b\n",
        "    else:\n",
        "      return 'enter the arguments in int or float'\n",
        "\n",
        "  def print_protected(self):\n",
        "    return self._protected\n",
        "\n",
        "  def print_private(self):\n",
        "    return self.__private\n",
        "\n",
        "class Calc2(Calc1):\n",
        "  def __init__(self):\n",
        "    super().__init__()\n",
        "    pass\n",
        "  \n",
        "  def print_Calc1_protected(self):\n",
        "    return self._protected\n",
        "\n",
        "  def print_Calc1_private(self):\n",
        "    return self.__private\n",
        "\n",
        "\n",
        "\n",
        "my_calc = Calc1()\n",
        "print(my_calc.add(1,2,3))\n",
        "print(my_calc.sub(1,2))\n",
        "print(my_calc.mul(1,2,3,4,5,6))\n",
        "print(my_calc.div(4,2))\n",
        "print(my_calc.add('1', '2'))\n",
        "print(my_calc.print_protected())\n",
        "print(my_calc.print_private())\n",
        "\n",
        "print('--')\n",
        "my_calc2 = Calc2()\n",
        "print(my_calc2.print_Calc1_protected())  #Note: cacl2 can access protected variable from calc1 but not private variable from calc1\n",
        "print(my_calc2.print_Calc1_private())"
      ]
    },
    {
      "cell_type": "markdown",
      "metadata": {},
      "source": [
        "## 6. Abstraction"
      ]
    },
    {
      "cell_type": "code",
      "execution_count": 85,
      "metadata": {
        "colab": {
          "base_uri": "https://localhost:8080/"
        },
        "id": "URAqKiEskaLA",
        "outputId": "e0c2b074-2ad5-4d3f-c58d-d5f1e2fba151"
      },
      "outputs": [
        {
          "name": "stdout",
          "output_type": "stream",
          "text": [
            "30\n",
            "22\n"
          ]
        }
      ],
      "source": [
        "### abstract method\n",
        "from abc import ABC, abstractmethod\n",
        "\n",
        "class Shape(ABC):\n",
        "  @abstractmethod\n",
        "  def area(self):\n",
        "    pass\n",
        "\n",
        "  @abstractmethod\n",
        "  def perimeter(self):\n",
        "    pass\n",
        "\n",
        "class Rectangle(Shape):\n",
        "  def __init__(self, l, b):\n",
        "    self.l = l\n",
        "    self.b = b\n",
        "\n",
        "  def area(self):\n",
        "    return self.l*self.b\n",
        "\n",
        "  def perimeter(self):\n",
        "    return 2*(self.l + self.b)   #since we mention perimeter in Shape class we must create a perimeter func in child class(Rectangle)\n",
        "\n",
        "rec = Rectangle(5,6)\n",
        "print(rec.area())\n",
        "print(rec.perimeter())"
      ]
    },
    {
      "cell_type": "code",
      "execution_count": null,
      "metadata": {},
      "outputs": [],
      "source": []
    }
  ],
  "metadata": {
    "colab": {
      "collapsed_sections": [],
      "name": "OOPS in Python",
      "provenance": []
    },
    "kernelspec": {
      "display_name": "Python 3",
      "name": "python3"
    },
    "language_info": {
      "codemirror_mode": {
        "name": "ipython",
        "version": 3
      },
      "file_extension": ".py",
      "mimetype": "text/x-python",
      "name": "python",
      "nbconvert_exporter": "python",
      "pygments_lexer": "ipython3",
      "version": "3.10.11"
    }
  },
  "nbformat": 4,
  "nbformat_minor": 0
}
