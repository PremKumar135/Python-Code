{
 "cells": [
  {
   "cell_type": "markdown",
   "metadata": {},
   "source": [
    "# 1. Create class for calculating age"
   ]
  },
  {
   "cell_type": "code",
   "execution_count": 49,
   "metadata": {},
   "outputs": [
    {
     "data": {
      "text/plain": [
       "29"
      ]
     },
     "execution_count": 49,
     "metadata": {},
     "output_type": "execute_result"
    }
   ],
   "source": [
    "import datetime\n",
    "import pandas as pd\n",
    "class Person:\n",
    "    def __init__(self, name, country, date_of_birth):\n",
    "        self.name = name\n",
    "        self.country = country\n",
    "        self.date_of_birth = datetime.datetime.strptime(date_of_birth, \"%d-%m-%Y\")\n",
    "\n",
    "    def calculate_age(self):\n",
    "        today = datetime.date.today()\n",
    "        age = today.year - self.date_of_birth.year \n",
    "        if today<datetime.date(today.year, self.date_of_birth.month, self.date_of_birth.day):\n",
    "            age = age-1\n",
    "        return age\n",
    "    \n",
    "\n",
    "p1 = Person('KP', 'India', '05-03-1995')\n",
    "\n",
    "p1.calculate_age()\n",
    "\n"
   ]
  },
  {
   "cell_type": "code",
   "execution_count": 57,
   "metadata": {},
   "outputs": [
    {
     "data": {
      "text/plain": [
       "29"
      ]
     },
     "execution_count": 57,
     "metadata": {},
     "output_type": "execute_result"
    }
   ],
   "source": [
    "import datetime\n",
    "from dataclasses import dataclass\n",
    "\n",
    "@dataclass\n",
    "class Person:\n",
    "    name:str  \n",
    "    country:str\n",
    "    date_of_birth:str\n",
    "\n",
    "    def calculate_age(self):\n",
    "        today = datetime.date.today()\n",
    "        dob_date_object = datetime.datetime.strptime(self.date_of_birth, \"%d-%m-%Y\")\n",
    "        age = today.year - dob_date_object.year\n",
    "        if today < datetime.date(today.year, dob_date_object.month, dob_date_object.day):\n",
    "            age = age-1\n",
    "        return age\n",
    "    \n",
    "p1 = Person('KP', 'India', '05-03-1995')\n",
    "\n",
    "p1.calculate_age()"
   ]
  },
  {
   "cell_type": "markdown",
   "metadata": {},
   "source": [
    "# 2. Bank Account"
   ]
  },
  {
   "cell_type": "code",
   "execution_count": 62,
   "metadata": {},
   "outputs": [
    {
     "name": "stdout",
     "output_type": "stream",
     "text": [
      "Account created successfully\n",
      "Amount credited\n",
      "Balance:  234324\n",
      "Amount debited\n",
      "Balance:  231992\n"
     ]
    }
   ],
   "source": [
    "class Bank:\n",
    "    def __init__(self):\n",
    "        self.customers = {}\n",
    "\n",
    "    def create_account(self, account_number, initial_balance=0):\n",
    "        if account_number in self.customers:\n",
    "            print('Account already exists')\n",
    "\n",
    "        else:\n",
    "            self.customers[account_number] = initial_balance\n",
    "            print(f'Account created successfully')\n",
    "\n",
    "    def make_deposit(self, account_number, amount):\n",
    "        if account_number in self.customers:\n",
    "            self.customers[account_number]+=amount\n",
    "            print('Amount credited')\n",
    "        else:\n",
    "            print('Account not exist')\n",
    "\n",
    "        \n",
    "    def withdraw(self, account_number, amount):\n",
    "        if account_number in self.customers:\n",
    "            if self.customers[account_number]>amount:\n",
    "                self.customers[account_number]-=amount\n",
    "                print('Amount debited')\n",
    "            else:\n",
    "                print('Insufficient balance')\n",
    "        else:\n",
    "            print('Account not exist')\n",
    "\n",
    "    def check_balance(self, account_number):\n",
    "        if account_number in self.customers:\n",
    "            print('Balance: ', self.customers[account_number])\n",
    "        else:\n",
    "            print('Account not exist')\n",
    "\n",
    "b = Bank()\n",
    "b.create_account(1)\n",
    "b.make_deposit(1, 234324)\n",
    "b.check_balance(1)\n",
    "b.withdraw(1, 2332)\n",
    "b.check_balance(1)\n"
   ]
  },
  {
   "cell_type": "code",
   "execution_count": 63,
   "metadata": {},
   "outputs": [
    {
     "name": "stdout",
     "output_type": "stream",
     "text": [
      "Account created successfully\n",
      "Amount credited\n",
      "Balance:  234324\n",
      "Amount debited\n",
      "Balance:  231992\n"
     ]
    }
   ],
   "source": [
    "from dataclasses import dataclass\n",
    "\n",
    "@dataclass\n",
    "class Bank:\n",
    "    customers = {}\n",
    "\n",
    "    def create_account(self, account_number, initial_balance=0):\n",
    "        if account_number in self.customers:\n",
    "            print('Account already exists')\n",
    "\n",
    "        else:\n",
    "            self.customers[account_number] = initial_balance\n",
    "            print(f'Account created successfully')\n",
    "\n",
    "    def make_deposit(self, account_number, amount):\n",
    "        if account_number in self.customers:\n",
    "            self.customers[account_number]+=amount\n",
    "            print('Amount credited')\n",
    "        else:\n",
    "            print('Account not exist')\n",
    "\n",
    "        \n",
    "    def withdraw(self, account_number, amount):\n",
    "        if account_number in self.customers:\n",
    "            if self.customers[account_number]>amount:\n",
    "                self.customers[account_number]-=amount\n",
    "                print('Amount debited')\n",
    "            else:\n",
    "                print('Insufficient balance')\n",
    "        else:\n",
    "            print('Account not exist')\n",
    "\n",
    "    def check_balance(self, account_number):\n",
    "        if account_number in self.customers:\n",
    "            print('Balance: ', self.customers[account_number])\n",
    "        else:\n",
    "            print('Account not exist')\n",
    "\n",
    "b = Bank()\n",
    "b.create_account(1)\n",
    "b.make_deposit(1, 234324)\n",
    "b.check_balance(1)\n",
    "b.withdraw(1, 2332)\n",
    "b.check_balance(1)\n"
   ]
  },
  {
   "cell_type": "markdown",
   "metadata": {},
   "source": [
    "## 3. Area perimeter "
   ]
  },
  {
   "cell_type": "code",
   "execution_count": 5,
   "metadata": {},
   "outputs": [
    {
     "name": "stdout",
     "output_type": "stream",
     "text": [
      "25.132741228718345\n",
      "50.26548245743669\n"
     ]
    }
   ],
   "source": [
    "import math\n",
    "from dataclasses import dataclass\n",
    "\n",
    "@dataclass\n",
    "class Circle:\n",
    "    radius:int\n",
    "\n",
    "    def perimeter(self):\n",
    "        return 2*math.pi*self.radius\n",
    "    \n",
    "    def area(self):\n",
    "        return math.pi*(self.radius**2)\n",
    "    \n",
    "rad = 4\n",
    "a = Circle(rad)\n",
    "print(a.perimeter())\n",
    "print(a.area())\n"
   ]
  },
  {
   "cell_type": "markdown",
   "metadata": {},
   "source": [
    "# 4. Task 4:\n",
    "- Write a Python program to create a class that represents a shape. Include methods to calculate its area and perimeter. Implement subclasses for different shapes like circle, triangle, and square."
   ]
  },
  {
   "cell_type": "code",
   "execution_count": 11,
   "metadata": {},
   "outputs": [
    {
     "name": "stdout",
     "output_type": "stream",
     "text": [
      "84.94866535306801\n",
      "12 14\n"
     ]
    }
   ],
   "source": [
    "from dataclasses import dataclass\n",
    "\n",
    "\n",
    "@dataclass\n",
    "class shape:\n",
    "    def calculate_area(self):\n",
    "        pass\n",
    "\n",
    "    def calculate_perimeter(self):\n",
    "        pass\n",
    "\n",
    "@dataclass\n",
    "class circle(shape):\n",
    "    radius: float\n",
    "\n",
    "    def calculate_area(self):\n",
    "        return math.pi*self.radius**2\n",
    "    \n",
    "    def calculate_perimeter(self):\n",
    "        return 2*math.pi*self.radius\n",
    "    \n",
    "\n",
    "@dataclass\n",
    "class Rectangle(shape):\n",
    "    length : float\n",
    "    breadth : float\n",
    "\n",
    "    def calculate_area(self):\n",
    "        return self.length*self.breadth\n",
    "    \n",
    "    def calculate_perimeter(self):\n",
    "        return 2*(self.length+self.breadth)\n",
    "    \n",
    "\n",
    "a = circle(5.2)\n",
    "print(a.calculate_area())\n",
    "\n",
    "b = Rectangle(3,4)\n",
    "print(b.calculate_area(), b.calculate_perimeter())\n"
   ]
  },
  {
   "cell_type": "markdown",
   "metadata": {},
   "source": [
    "# 5. Task 5 :\n",
    "- Write a Python program to create a class representing a shopping cart. Include methods for adding and removing items, and calculating the total price."
   ]
  },
  {
   "cell_type": "code",
   "execution_count": 12,
   "metadata": {},
   "outputs": [
    {
     "name": "stdout",
     "output_type": "stream",
     "text": [
      "425\n"
     ]
    }
   ],
   "source": [
    "from dataclasses import dataclass\n",
    "\n",
    "\n",
    "@dataclass\n",
    "class ShoppingCart:\n",
    "    cart = {}\n",
    "\n",
    "    def add_items(self, item_name, price, item_no=1):\n",
    "        total_price = item_no*price\n",
    "        if item_name in self.cart:\n",
    "            self.cart[item_name] += total_price\n",
    "        else:\n",
    "            self.cart[item_name] = total_price\n",
    "\n",
    "    def remove_items(self, item_name, price, item_no=1):\n",
    "        total_price = item_no*price\n",
    "        if item_name in self.cart:\n",
    "            self.cart[item_name] -=total_price\n",
    "        else:\n",
    "            self.cart[item_name] = total_price \n",
    "\n",
    "    def calculate_total(self):\n",
    "        return sum(self.cart.values())\n",
    "    \n",
    "\n",
    "a = ShoppingCart()\n",
    "a.add_items('bread', 45, 3)\n",
    "a.add_items('egg', 5, 20 )\n",
    "a.add_items('chicken', 200, 1)\n",
    "a.remove_items('egg', 5, 2)\n",
    "print(a.calculate_total())\n",
    "\n",
    "        \n",
    "\n"
   ]
  },
  {
   "cell_type": "code",
   "execution_count": null,
   "metadata": {},
   "outputs": [],
   "source": []
  }
 ],
 "metadata": {
  "kernelspec": {
   "display_name": "venv_learning",
   "language": "python",
   "name": "python3"
  },
  "language_info": {
   "codemirror_mode": {
    "name": "ipython",
    "version": 3
   },
   "file_extension": ".py",
   "mimetype": "text/x-python",
   "name": "python",
   "nbconvert_exporter": "python",
   "pygments_lexer": "ipython3",
   "version": "3.10.11"
  }
 },
 "nbformat": 4,
 "nbformat_minor": 2
}
