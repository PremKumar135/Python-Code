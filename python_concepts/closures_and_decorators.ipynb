{
 "cells": [
  {
   "cell_type": "markdown",
   "metadata": {},
   "source": [
    "# 1. Variable Scope:\n",
    "- Local\n",
    "- Global\n",
    "- Enclosed variable\n",
    "- built_in variable\n",
    "- LEGB rule"
   ]
  },
  {
   "cell_type": "markdown",
   "metadata": {},
   "source": [
    "### 1. Local scope"
   ]
  },
  {
   "cell_type": "code",
   "execution_count": 53,
   "metadata": {},
   "outputs": [
    {
     "name": "stdout",
     "output_type": "stream",
     "text": [
      "15\n"
     ]
    }
   ],
   "source": [
    "def func():\n",
    "    x=10   # local scope --> inside the function\n",
    "    x = x+5 # x can be modified because its a local function\n",
    "    print(x)\n",
    "\n",
    "func()"
   ]
  },
  {
   "cell_type": "markdown",
   "metadata": {},
   "source": [
    "### 2. Global"
   ]
  },
  {
   "cell_type": "code",
   "execution_count": 40,
   "metadata": {},
   "outputs": [
    {
     "name": "stdout",
     "output_type": "stream",
     "text": [
      "15\n",
      "++++++++++++++++++++++++++++++++++++++++\n"
     ]
    },
    {
     "ename": "UnboundLocalError",
     "evalue": "cannot access local variable 'x' where it is not associated with a value",
     "output_type": "error",
     "traceback": [
      "\u001b[0;31m---------------------------------------------------------------------------\u001b[0m",
      "\u001b[0;31mUnboundLocalError\u001b[0m                         Traceback (most recent call last)",
      "Cell \u001b[0;32mIn[40], line 16\u001b[0m\n\u001b[1;32m     13\u001b[0m     x \u001b[38;5;241m=\u001b[39m x\u001b[38;5;241m+\u001b[39m\u001b[38;5;241m10\u001b[39m \u001b[38;5;66;03m# x can be changed because x is not a local variable\u001b[39;00m\n\u001b[1;32m     14\u001b[0m     \u001b[38;5;28mprint\u001b[39m(x)\n\u001b[0;32m---> 16\u001b[0m \u001b[43mfunc\u001b[49m\u001b[43m(\u001b[49m\u001b[43m)\u001b[49m\n",
      "Cell \u001b[0;32mIn[40], line 12\u001b[0m, in \u001b[0;36mfunc\u001b[0;34m()\u001b[0m\n\u001b[1;32m     11\u001b[0m \u001b[38;5;28;01mdef\u001b[39;00m \u001b[38;5;21mfunc\u001b[39m():\n\u001b[0;32m---> 12\u001b[0m     \u001b[38;5;28mprint\u001b[39m(\u001b[43mx\u001b[49m)\n\u001b[1;32m     13\u001b[0m     x \u001b[38;5;241m=\u001b[39m x\u001b[38;5;241m+\u001b[39m\u001b[38;5;241m10\u001b[39m \u001b[38;5;66;03m# x can be changed because x is not a local variable\u001b[39;00m\n\u001b[1;32m     14\u001b[0m     \u001b[38;5;28mprint\u001b[39m(x)\n",
      "\u001b[0;31mUnboundLocalError\u001b[0m: cannot access local variable 'x' where it is not associated with a value"
     ]
    }
   ],
   "source": [
    "\n",
    "x = 10\n",
    "def func():\n",
    "    print(x)\n",
    "    x = x+10 # x can be changed because x is not a local variable\n",
    "    print(x)\n",
    "\n",
    "func()"
   ]
  },
  {
   "cell_type": "code",
   "execution_count": 49,
   "metadata": {},
   "outputs": [
    {
     "name": "stdout",
     "output_type": "stream",
     "text": [
      "10\n",
      "20\n",
      "20\n"
     ]
    }
   ],
   "source": [
    "x = 10\n",
    "def func():\n",
    "    global x   # --> giving global x inside the function to make it locally accessible\n",
    "    x =x+10    # --> value changed\n",
    "    print(x)   # ---> value changed\n",
    "\n",
    "print(x)   \n",
    "func()\n",
    "print(x)        # global x is also changed"
   ]
  },
  {
   "cell_type": "markdown",
   "metadata": {},
   "source": [
    "### 3. Enclosed Variable"
   ]
  },
  {
   "cell_type": "code",
   "execution_count": 51,
   "metadata": {},
   "outputs": [
    {
     "ename": "UnboundLocalError",
     "evalue": "cannot access local variable 'x' where it is not associated with a value",
     "output_type": "error",
     "traceback": [
      "\u001b[0;31m---------------------------------------------------------------------------\u001b[0m",
      "\u001b[0;31mUnboundLocalError\u001b[0m                         Traceback (most recent call last)",
      "Cell \u001b[0;32mIn[51], line 9\u001b[0m\n\u001b[1;32m      6\u001b[0m         \u001b[38;5;28mprint\u001b[39m(x)\n\u001b[1;32m      7\u001b[0m     \u001b[38;5;28;01mreturn\u001b[39;00m inner()\n\u001b[0;32m----> 9\u001b[0m \u001b[43mouter\u001b[49m\u001b[43m(\u001b[49m\u001b[43m)\u001b[49m\n",
      "Cell \u001b[0;32mIn[51], line 7\u001b[0m, in \u001b[0;36mouter\u001b[0;34m()\u001b[0m\n\u001b[1;32m      5\u001b[0m     x \u001b[38;5;241m=\u001b[39m x\u001b[38;5;241m+\u001b[39m\u001b[38;5;241m5\u001b[39m  \u001b[38;5;66;03m# can't change the access variable\u001b[39;00m\n\u001b[1;32m      6\u001b[0m     \u001b[38;5;28mprint\u001b[39m(x)\n\u001b[0;32m----> 7\u001b[0m \u001b[38;5;28;01mreturn\u001b[39;00m \u001b[43minner\u001b[49m\u001b[43m(\u001b[49m\u001b[43m)\u001b[49m\n",
      "Cell \u001b[0;32mIn[51], line 4\u001b[0m, in \u001b[0;36mouter.<locals>.inner\u001b[0;34m()\u001b[0m\n\u001b[1;32m      3\u001b[0m \u001b[38;5;28;01mdef\u001b[39;00m \u001b[38;5;21minner\u001b[39m():\n\u001b[0;32m----> 4\u001b[0m     \u001b[38;5;28mprint\u001b[39m(\u001b[43mx\u001b[49m) \u001b[38;5;66;03m# can access the enclosed variable\u001b[39;00m\n\u001b[1;32m      5\u001b[0m     x \u001b[38;5;241m=\u001b[39m x\u001b[38;5;241m+\u001b[39m\u001b[38;5;241m5\u001b[39m  \u001b[38;5;66;03m# can't change the access variable\u001b[39;00m\n\u001b[1;32m      6\u001b[0m     \u001b[38;5;28mprint\u001b[39m(x)\n",
      "\u001b[0;31mUnboundLocalError\u001b[0m: cannot access local variable 'x' where it is not associated with a value"
     ]
    }
   ],
   "source": [
    "def outer():\n",
    "    x = 10      # enclosed variable\n",
    "    def inner():\n",
    "        print(x) # can access the enclosed variable\n",
    "        x = x+5  # can't change the access variable\n",
    "        print(x)\n",
    "    return inner()\n",
    "\n",
    "outer()"
   ]
  },
  {
   "cell_type": "code",
   "execution_count": 54,
   "metadata": {},
   "outputs": [
    {
     "name": "stdout",
     "output_type": "stream",
     "text": [
      "10\n",
      "15\n"
     ]
    }
   ],
   "source": [
    "def outer():\n",
    "    x = 10      # enclosed variable\n",
    "    def inner():\n",
    "        nonlocal x  # giving nonlocal access to x since its neither local nor global\n",
    "        print(x) # can access the enclosed variable\n",
    "        x = x+5  # can't change the access variable\n",
    "        print(x)\n",
    "    return inner()\n",
    "\n",
    "outer()"
   ]
  },
  {
   "cell_type": "markdown",
   "metadata": {},
   "source": [
    "### 4. Built_in"
   ]
  },
  {
   "cell_type": "code",
   "execution_count": 55,
   "metadata": {},
   "outputs": [
    {
     "name": "stdout",
     "output_type": "stream",
     "text": [
      "hi, Hello World!!!\n"
     ]
    }
   ],
   "source": [
    "def outer():\n",
    "    print('hi,', end=' ')               # Built_in statements like print can be accesed anywhere\n",
    "    def inner():\n",
    "        print('Hello', end=' ') \n",
    "        def inner2():\n",
    "            print('World!!!')\n",
    "        return inner2()\n",
    "    return inner()\n",
    "\n",
    "outer()"
   ]
  },
  {
   "cell_type": "markdown",
   "metadata": {},
   "source": [
    "### 5. LEGB rule"
   ]
  },
  {
   "cell_type": "code",
   "execution_count": 60,
   "metadata": {},
   "outputs": [
    {
     "name": "stdout",
     "output_type": "stream",
     "text": [
      "1000\n",
      "15\n",
      "500\n"
     ]
    }
   ],
   "source": [
    "'''\n",
    "## local > enclosed > gloabl > built_in\n",
    "'''\n",
    "x = 5\n",
    "y = 500\n",
    "def outer():\n",
    "    x = 10\n",
    "    y =1000       # 2. Enclosed variable takes precedence\n",
    "    print(y)\n",
    "    def inner():\n",
    "        x = 15     # 1. local variable takes precedence\n",
    "        print(x)\n",
    "    return inner()\n",
    "\n",
    "outer()\n",
    "print(y)        # 3. Global varaiable  "
   ]
  },
  {
   "cell_type": "markdown",
   "metadata": {},
   "source": [
    "# 2. Closures\n",
    "- it allows us to access the enclosed function in outside \n",
    "> **why we need it?**\n",
    "- we can use the enclosed function outside \n",
    "- we dont need to use global command\n",
    "- we can make decorators using it"
   ]
  },
  {
   "cell_type": "code",
   "execution_count": 7,
   "metadata": {},
   "outputs": [
    {
     "ename": "AttributeError",
     "evalue": "'str' object has no attribute '__name__'",
     "output_type": "error",
     "traceback": [
      "\u001b[0;31m---------------------------------------------------------------------------\u001b[0m",
      "\u001b[0;31mAttributeError\u001b[0m                            Traceback (most recent call last)",
      "Cell \u001b[0;32mIn[7], line 9\u001b[0m\n\u001b[1;32m      6\u001b[0m     \u001b[38;5;28;01mreturn\u001b[39;00m inner ()  \u001b[38;5;66;03m######## --> here i am executing, that's why error\u001b[39;00m\n\u001b[1;32m      8\u001b[0m a \u001b[38;5;241m=\u001b[39m outer()\n\u001b[0;32m----> 9\u001b[0m \u001b[38;5;28mprint\u001b[39m(\u001b[38;5;124m'\u001b[39m\u001b[38;5;124mlook at the name of the function executed by variable :a--->\u001b[39m\u001b[38;5;124m'\u001b[39m,\u001b[43ma\u001b[49m\u001b[38;5;241;43m.\u001b[39;49m\u001b[38;5;18;43m__name__\u001b[39;49m)  \u001b[38;5;66;03m## look at the name of the function executed by variable a\u001b[39;00m\n\u001b[1;32m     10\u001b[0m a()\n",
      "\u001b[0;31mAttributeError\u001b[0m: 'str' object has no attribute '__name__'"
     ]
    }
   ],
   "source": [
    "def outer():\n",
    "    msg = 'hello'\n",
    "    def inner():\n",
    "        msg2 = 'world'\n",
    "        return msg+' '+msg2\n",
    "    return inner ()  ######## --> here i am executing, that's why error\n",
    "\n",
    "a = outer()\n",
    "print('look at the name of the function executed by variable :a--->',a.__name__)  ## look at the name of the function executed by variable a\n",
    "a()"
   ]
  },
  {
   "cell_type": "code",
   "execution_count": 8,
   "metadata": {},
   "outputs": [
    {
     "name": "stdout",
     "output_type": "stream",
     "text": [
      "look at the name of the function executed by variable :a---> inner\n"
     ]
    },
    {
     "data": {
      "text/plain": [
       "'hello world'"
      ]
     },
     "execution_count": 8,
     "metadata": {},
     "output_type": "execute_result"
    }
   ],
   "source": [
    "def outer():\n",
    "    msg = 'hello'\n",
    "    def inner():\n",
    "        msg2 = 'world'\n",
    "        return msg+' '+msg2\n",
    "    return inner  ## here i am not executing\n",
    "\n",
    "a = outer()\n",
    "print('look at the name of the function executed by variable :a--->',a.__name__)  ## look at the name of the function executed by variable a\n",
    "a()"
   ]
  },
  {
   "cell_type": "code",
   "execution_count": null,
   "metadata": {},
   "outputs": [],
   "source": []
  },
  {
   "cell_type": "markdown",
   "metadata": {},
   "source": [
    "# 3. Decorator Examples"
   ]
  },
  {
   "cell_type": "markdown",
   "metadata": {},
   "source": [
    "#### Eg-1:"
   ]
  },
  {
   "cell_type": "code",
   "execution_count": 11,
   "metadata": {},
   "outputs": [
    {
     "name": "stdout",
     "output_type": "stream",
     "text": [
      "Entered the decorator:\n",
      "i am the main function\n",
      "Exited the decorator!!!\n"
     ]
    }
   ],
   "source": [
    "def decorator_func(func):\n",
    "    def execute_func():\n",
    "        print('Entered the decorator:')\n",
    "        func()\n",
    "        print('Exited the decorator!!!')\n",
    "    \n",
    "    return execute_func\n",
    "\n",
    "@decorator_func\n",
    "def main_function():\n",
    "    print('i am the main function')\n",
    "\n",
    "main_function()"
   ]
  },
  {
   "cell_type": "markdown",
   "metadata": {},
   "source": [
    "#### Eg-2:"
   ]
  },
  {
   "cell_type": "code",
   "execution_count": 31,
   "metadata": {},
   "outputs": [
    {
     "name": "stdout",
     "output_type": "stream",
     "text": [
      "This is a decorator function\n",
      "I AM SHOUTING!!!\n"
     ]
    }
   ],
   "source": [
    "import random\n",
    "def decorator_func(func):\n",
    "    def execute_func():\n",
    "        print('This is a decorator function')\n",
    "        func()\n",
    "    return execute_func\n",
    "\n",
    "\n",
    "@decorator_func\n",
    "def shout():\n",
    "    print(\"I AM SHOUTING!!!\")\n",
    "\n",
    "@decorator_func\n",
    "def whisper():\n",
    "    print('i am whispering...')\n",
    "\n",
    "value = random.randint(0,1)\n",
    "if value:\n",
    "    shout()\n",
    "else:\n",
    "    whisper()"
   ]
  },
  {
   "cell_type": "code",
   "execution_count": 4,
   "metadata": {},
   "outputs": [
    {
     "name": "stdout",
     "output_type": "stream",
     "text": [
      "This is a decorator function\n",
      "I AM SHOUTING\n"
     ]
    }
   ],
   "source": [
    "import random\n",
    "def decorator_func(func):\n",
    "    def execute_func(msg):\n",
    "        print('This is a decorator function')\n",
    "        return func(msg)\n",
    "    return execute_func\n",
    "\n",
    "\n",
    "@decorator_func\n",
    "def shout(msg):\n",
    "    return msg\n",
    "\n",
    "\n",
    "print(shout('I AM SHOUTING'))\n"
   ]
  },
  {
   "cell_type": "code",
   "execution_count": null,
   "metadata": {},
   "outputs": [],
   "source": []
  }
 ],
 "metadata": {
  "kernelspec": {
   "display_name": "venv_learning",
   "language": "python",
   "name": "python3"
  },
  "language_info": {
   "codemirror_mode": {
    "name": "ipython",
    "version": 3
   },
   "file_extension": ".py",
   "mimetype": "text/x-python",
   "name": "python",
   "nbconvert_exporter": "python",
   "pygments_lexer": "ipython3",
   "version": "3.1.-1"
  }
 },
 "nbformat": 4,
 "nbformat_minor": 2
}
