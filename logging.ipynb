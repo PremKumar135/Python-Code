{
 "cells": [
  {
   "cell_type": "code",
   "execution_count": 1,
   "metadata": {},
   "outputs": [
    {
     "name": "stderr",
     "output_type": "stream",
     "text": [
      "<>:7: SyntaxWarning: \"is not\" with 'float' literal. Did you mean \"!=\"?\n",
      "<>:7: SyntaxWarning: \"is not\" with 'float' literal. Did you mean \"!=\"?\n",
      "/var/folders/14/v6n289_j38zblcgwvg271f1w0000gn/T/ipykernel_59910/3153747316.py:7: SyntaxWarning: \"is not\" with 'float' literal. Did you mean \"!=\"?\n",
      "  if 0/1 is not True:\n"
     ]
    }
   ],
   "source": [
    "import logging\n",
    "\n",
    "logging.basicConfig(filename='basic_log.log', format='%(asctime)s %(message)s', filemode='w')\n",
    "\n",
    "logger = logging.getLogger()\n",
    "logger.setLevel(logging.CRITICAL)\n",
    "if 0/1 is not True:\n",
    "    logging.info(r\"INFO:: Variable has value 0\")\n",
    "    logging.debug(r\"DEBUG:: Variable has value 0\")\n",
    "    logging.error(r\"ERROR:: Variable has value 0\")\n",
    "    logging.warning(r\"WARNING:: Variable has value 0\")\n",
    "    logging.critical(r\"CRITICAL:: Variable has value 0\")"
   ]
  },
  {
   "cell_type": "markdown",
   "metadata": {},
   "source": [
    "def logging_decorator(func):\n",
    "    def execute_func(logging_obj, msg, priority):\n",
    "        print('entered dec func:::')\n",
    "        func(logging_obj, msg, priority)\n",
    "        exec(f\"{logging_obj}.{priority}('{priority.upper()}::: {msg}')\")\n",
    "    return execute_func\n",
    "\n",
    "@logging_decorator\n",
    "def divide(logger, msg , priority):\n",
    "    if 0/1 != True:\n",
    "        print('function done')\n",
    "    \n",
    "logging.basicConfig(filename='log_file.log', format='%(asctime)s %(message)s', filemode='w')\n",
    "logger = logging.getLogger()\n",
    "logger.setLevel(logging.DEBUG)\n",
    "divide(logger, 'ans is zero', 'debug')"
   ]
  },
  {
   "cell_type": "code",
   "execution_count": null,
   "metadata": {},
   "outputs": [],
   "source": []
  }
 ],
 "metadata": {
  "kernelspec": {
   "display_name": "venv_learning",
   "language": "python",
   "name": "python3"
  },
  "language_info": {
   "codemirror_mode": {
    "name": "ipython",
    "version": 3
   },
   "file_extension": ".py",
   "mimetype": "text/x-python",
   "name": "python",
   "nbconvert_exporter": "python",
   "pygments_lexer": "ipython3",
   "version": "3.1.-1"
  }
 },
 "nbformat": 4,
 "nbformat_minor": 2
}
